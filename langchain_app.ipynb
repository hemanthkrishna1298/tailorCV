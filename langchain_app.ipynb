{
 "cells": [
  {
   "cell_type": "code",
   "execution_count": 1,
   "metadata": {},
   "outputs": [],
   "source": [
    "from dotenv import load_dotenv, find_dotenv\n",
    "\n",
    "load_dotenv(find_dotenv(), override=True)\n",
    "\n",
    "from langchain_openai import ChatOpenAI\n",
    "\n",
    "# model = ChatOpenAI(model=\"gpt-4o-mini\")\n",
    "model = ChatOpenAI(model=\"gpt-4o\", temperature=0)"
   ]
  },
  {
   "cell_type": "code",
   "execution_count": 2,
   "metadata": {},
   "outputs": [],
   "source": [
    "# take pdf resume input and parse it\n",
    "from langchain_community.document_loaders import PyPDFLoader\n",
    "\n",
    "file_path = (\n",
    "    \".\\input\\Hemantha_Bharadwaj_Resume_7_29_24.pdf\"\n",
    ")\n",
    "loader = PyPDFLoader(file_path)\n",
    "resume = loader.load()"
   ]
  },
  {
   "cell_type": "code",
   "execution_count": 3,
   "metadata": {},
   "outputs": [],
   "source": [
    "job_description = \"\"\"Software Engineer - New Grad\n",
    "San Francisco, CA\n",
    "\n",
    "At Scale, our mission is to accelerate the development of AI applications. For 8 years, Scale has been the leading AI data foundry, helping fuel the most exciting advancements in AI, including: generative AI, defense applications, and autonomous vehicles. With our recent Series F round, we’re accelerating the abundance of frontier data to pave the road to Artificial General Intelligence (AGI), and building upon our prior model evaluation work with enterprise customers and governments, to deepen our capabilities and offerings for both public and private evaluations.\n",
    "\n",
    "\n",
    "\n",
    "\n",
    "Example Projects:\n",
    "\n",
    "Ship tools to accelerate the growth of new qualified contributors on Scale’s labeling platform\n",
    "Build methodical fraud-detection systems to remove bad actors and keep Scale’s contributor base safe and trusted. \n",
    "Use models to estimate the quality of tasks and labelers, and guarantee quality on requests at large scale.\n",
    "Devise advanced matching algorithms to match labelers to customers for optimal turnaround and accuracy.\n",
    "Build methods to automatically measure, train, and optimally match labelers to tasks based on performance\n",
    "Create optimized and efficient UI/UX tooling, in combination with ML algorithms, for 100k+ labelers to complete billions of complex tasks\n",
    "Develop new AI infrastructure products to visualize, query, and explore Scale data\n",
    " \n",
    "\n",
    "Requirements:\n",
    "\n",
    "A graduation date in Fall 2024 or Spring 2025 with a Bachelor’s degree (or equivalent) in a relevant field (Computer Science, EECS, Computer Engineering, Statistics) \n",
    "Product engineering experience such as building web apps full-stack, integrating with relevant APIs and services, talking to customers, figuring out ‘what’ to build and then iterating\n",
    "Previous Computer Science/Software Engineering Internship experience \n",
    "Track record of shipping high-quality products and features at scale\n",
    "Experience building systems that process large volumes of data\n",
    "Experience with Python, React, typescript and/or MongoDB\n",
    "\"\"\""
   ]
  },
  {
   "cell_type": "code",
   "execution_count": 4,
   "metadata": {},
   "outputs": [
    {
     "data": {
      "text/plain": [
       "[Document(metadata={'source': '.\\\\input\\\\Hemantha_Bharadwaj_Resume_7_29_24.pdf', 'page': 0}, page_content='Hemantha  Krishna  Bharadwaj  \\nhemanthkrishna1298@gmail.com  | LinkedIn  | +1 470 838 8094 | Web site: hemanthkrishna1298.github.io  \\nEducation  \\n       Georgia  Institute  of Technology  Atlanta,  GA \\nMS Electrical  and Computer  Engineerin g, DSP -Machine Learning  Specialization  Aug 2022  – May 2024  \\nTeaching Assistant, OMSCS Machine Learning , GPA: 3.83/4.0  \\nBirla  Institute  of Technology  and  Science  [BITS]  Pilani                                                                                                                    India  \\nB. Eng.  Electrical  and Electronics,  GPA:  9.3/10 .0 Aug 2018  – May  2022  \\nSkills  \\nProgramming Languages:  Python, C, C++  \\nMachine Learning: PyTorch, TensorFlow, Scikit -learn  \\nRetrieval & Search: Vector Databases, Semantic and Hybrid  Search , Embedding Models  \\nNLP & LLMs: OpenAI  API, OpenAI Evals , Langchain, Claude  API, Azure AI  Studio , Hugging Face , DSP y \\nCloud & Deployment: Azure AI Studio, Git, Docker  \\nExperience  \\nMachine Learning Data Scientist     Jun 2024 – Present  \\nRippleWorx                                                                                                                                               \\n• Developed and deployed large language model ( LLM ) systems for diverse applications, incorporating plug -and-\\nplay LLM subsystems for output generation, evaluation, and iterative prompt optimization  \\n• Engineered hybrid search engines combining semantic and keyword search to enhance functionalities across \\ncompany software, improving search quality and hit rate by 80% \\n• Implemented vector databases and optimized retrieval algorithms , resulting in a 50% reduction in response time s \\n• Leveraged  Azure AI Studio to deploy scalable, production -ready ML systems  for high availability and performance  \\nGenerative AI Technical Lead  Jul 2023  – Jan 2024  \\nAirlinq                                                                                                                                               \\n• Led a cross -functional team of 15 in developing an AI system allowing personalized conversations between vehicle \\nowners and their cars , deployed in leading Indian automo tive OEMs  \\n• Leveraged  LLMs in conjunction with retrieval augmented generation and autonomous task generation for creating \\ntailored experiences for car owners, vehicle manufacturers, and service engineers  \\n• Designed and implemented a system comprising vector databases, LLM chains, autonomous agents, and memory  \\n• Utilized various tools and frameworks including Langchain, LLMs (OpenAI, Llama2, Falcon), speech transcription  \\n(Whisper AI), HuggingFace  embedding models  to create a robust and scalable AI solution  \\nMachine Learning for Speech                                                                                                         Aug 2022  - Dec 2022  \\nGeorgia Tech  \\nProject : Analysis of SSL Models for Speaker Identification  \\n• Improved self -supervised speaker -ID models (Hubert & Wav2Vec2) using an embedding ensemble approach  and \\noptimizing audio length , achieving a 97.31% accuracy on the VoxCeleb dataset, outperforming baseline models  \\n• Implemented data processing pipelines to handle large -scale audio datasets, reducing preprocessing time by 35%  \\nMachine Learning Intern                                                                                                                      Feb 2022  - April  2022  \\nDigital Audio Processing Lab, IIT Bombay  \\nProject : Multi -modal  audio -visual  Raga  and Singer  Classification  using  CNNs  \\n• Developed 3 2D convolutional network architectures for  Raga (melodic mode) identification , achieving 92% \\naccuracy on a diverse dataset  \\n• Experimented with 6 spectrogram inputs with 2D CNN for the classification task  for multimodal classification  \\nMachine Learning Thesis , Bill and Melinda Gates Foundation   Aug  2021  – Feb 2022  \\nSPIRE Lab, Indian Institute of Science  \\nProject : Speech Recognition in Agriculture, Finance for the Indian Poor  \\n• Developed a domain -specific web scraping pipeline in Python to create NLP training text corpora in 9 local Indian \\nlanguages that increased scraping efficiency by 40%  \\n• Analyzed collected text corpora to design and train domain -specific NLP language models for use in speech \\nrecognition and speech -to-text systems  \\n• Developed  speech recognition  models in local Indian languages for use in educationally backward rural areas  \\nMachine Learning Intern    May  2021 – Aug  2021  \\nUniversity of Calgary  \\nProject : Identification and Cancellation of Fauna Noise using AI  \\n• Developed an audio processing model using deep neural networks for id entification and cancellation of \\nenvironmental fauna noise from professional audio recordi ngs \\n• Preprocessed audio recordings into mel spectrograms  for a 4 -layer neural network identifying possible noise \\nfrequencies for subsequent removal from the original audio signals  \\nPublications  \\nH. K. Bharadwaj et al. ,” A Review on the Role of Machine Learning  in Enabling  IoT Based  Healthcare  \\nApplications,”  in IEEE  Access,  vol. 9 [Link]  [150+ citations]  \\n')]"
      ]
     },
     "execution_count": 4,
     "metadata": {},
     "output_type": "execute_result"
    }
   ],
   "source": [
    "resume"
   ]
  },
  {
   "cell_type": "code",
   "execution_count": 6,
   "metadata": {},
   "outputs": [],
   "source": [
    "from langchain_core.prompts import ChatPromptTemplate\n",
    "\n",
    "prompt_template = ChatPromptTemplate.from_messages(\n",
    "    [\n",
    "        (\"system\", \"You are a highly advanced AI language model designed to optimize resumes for specific job applications. Your task is to take a candidate's original resume and tailor it to match a provided job description. This should increase the candidate's chances of getting selected for the role by incorporating relevant keywords and aligning their experience with the job requirements, while keeping the resume structure intact and staying truthful to their actual qualifications.\"),\n",
    "        (\"user\", \"\"\"Here is a resume of a candidate and a job description for a role they are applying for. Your task is to tailor the candidate's resume to match the job description as closely as possible while keeping the same structure and remaining truthful to the candidate's qualifications. Make sure to incorporate necessary keywords from the job description to help optimize the resume for the job.\n",
    "         \n",
    "         Candidate's Resume: {resume}\n",
    "         \n",
    "         Job Description: {job_description}\n",
    "         \n",
    "         Please provide the optimized resume that maximizes the candidate's chances of selection for this specific job, while maintaining the original format.\"\"\")\n",
    "    ]\n",
    ")"
   ]
  },
  {
   "cell_type": "code",
   "execution_count": 7,
   "metadata": {},
   "outputs": [
    {
     "data": {
      "text/plain": [
       "'Hemantha  Krishna  Bharadwaj  \\nhemanthkrishna1298@gmail.com  | LinkedIn  | +1 470 838 8094 | Web site: hemanthkrishna1298.github.io  \\nEducation  \\n       Georgia  Institute  of Technology  Atlanta,  GA \\nMS Electrical  and Computer  Engineerin g, DSP -Machine Learning  Specialization  Aug 2022  – May 2024  \\nTeaching Assistant, OMSCS Machine Learning , GPA: 3.83/4.0  \\nBirla  Institute  of Technology  and  Science  [BITS]  Pilani                                                                                                                    India  \\nB. Eng.  Electrical  and Electronics,  GPA:  9.3/10 .0 Aug 2018  – May  2022  \\nSkills  \\nProgramming Languages:  Python, C, C++  \\nMachine Learning: PyTorch, TensorFlow, Scikit -learn  \\nRetrieval & Search: Vector Databases, Semantic and Hybrid  Search , Embedding Models  \\nNLP & LLMs: OpenAI  API, OpenAI Evals , Langchain, Claude  API, Azure AI  Studio , Hugging Face , DSP y \\nCloud & Deployment: Azure AI Studio, Git, Docker  \\nExperience  \\nMachine Learning Data Scientist     Jun 2024 – Present  \\nRippleWorx                                                                                                                                               \\n• Developed and deployed large language model ( LLM ) systems for diverse applications, incorporating plug -and-\\nplay LLM subsystems for output generation, evaluation, and iterative prompt optimization  \\n• Engineered hybrid search engines combining semantic and keyword search to enhance functionalities across \\ncompany software, improving search quality and hit rate by 80% \\n• Implemented vector databases and optimized retrieval algorithms , resulting in a 50% reduction in response time s \\n• Leveraged  Azure AI Studio to deploy scalable, production -ready ML systems  for high availability and performance  \\nGenerative AI Technical Lead  Jul 2023  – Jan 2024  \\nAirlinq                                                                                                                                               \\n• Led a cross -functional team of 15 in developing an AI system allowing personalized conversations between vehicle \\nowners and their cars , deployed in leading Indian automo tive OEMs  \\n• Leveraged  LLMs in conjunction with retrieval augmented generation and autonomous task generation for creating \\ntailored experiences for car owners, vehicle manufacturers, and service engineers  \\n• Designed and implemented a system comprising vector databases, LLM chains, autonomous agents, and memory  \\n• Utilized various tools and frameworks including Langchain, LLMs (OpenAI, Llama2, Falcon), speech transcription  \\n(Whisper AI), HuggingFace  embedding models  to create a robust and scalable AI solution  \\nMachine Learning for Speech                                                                                                         Aug 2022  - Dec 2022  \\nGeorgia Tech  \\nProject : Analysis of SSL Models for Speaker Identification  \\n• Improved self -supervised speaker -ID models (Hubert & Wav2Vec2) using an embedding ensemble approach  and \\noptimizing audio length , achieving a 97.31% accuracy on the VoxCeleb dataset, outperforming baseline models  \\n• Implemented data processing pipelines to handle large -scale audio datasets, reducing preprocessing time by 35%  \\nMachine Learning Intern                                                                                                                      Feb 2022  - April  2022  \\nDigital Audio Processing Lab, IIT Bombay  \\nProject : Multi -modal  audio -visual  Raga  and Singer  Classification  using  CNNs  \\n• Developed 3 2D convolutional network architectures for  Raga (melodic mode) identification , achieving 92% \\naccuracy on a diverse dataset  \\n• Experimented with 6 spectrogram inputs with 2D CNN for the classification task  for multimodal classification  \\nMachine Learning Thesis , Bill and Melinda Gates Foundation   Aug  2021  – Feb 2022  \\nSPIRE Lab, Indian Institute of Science  \\nProject : Speech Recognition in Agriculture, Finance for the Indian Poor  \\n• Developed a domain -specific web scraping pipeline in Python to create NLP training text corpora in 9 local Indian \\nlanguages that increased scraping efficiency by 40%  \\n• Analyzed collected text corpora to design and train domain -specific NLP language models for use in speech \\nrecognition and speech -to-text systems  \\n• Developed  speech recognition  models in local Indian languages for use in educationally backward rural areas  \\nMachine Learning Intern    May  2021 – Aug  2021  \\nUniversity of Calgary  \\nProject : Identification and Cancellation of Fauna Noise using AI  \\n• Developed an audio processing model using deep neural networks for id entification and cancellation of \\nenvironmental fauna noise from professional audio recordi ngs \\n• Preprocessed audio recordings into mel spectrograms  for a 4 -layer neural network identifying possible noise \\nfrequencies for subsequent removal from the original audio signals  \\nPublications  \\nH. K. Bharadwaj et al. ,” A Review on the Role of Machine Learning  in Enabling  IoT Based  Healthcare  \\nApplications,”  in IEEE  Access,  vol. 9 [Link]  [150+ citations]  \\n'"
      ]
     },
     "execution_count": 7,
     "metadata": {},
     "output_type": "execute_result"
    }
   ],
   "source": [
    "resume[0].page_content"
   ]
  },
  {
   "cell_type": "code",
   "execution_count": 8,
   "metadata": {},
   "outputs": [],
   "source": [
    "from langchain_core.output_parsers import StrOutputParser\n",
    "\n",
    "parser = StrOutputParser()"
   ]
  },
  {
   "cell_type": "code",
   "execution_count": 9,
   "metadata": {},
   "outputs": [],
   "source": [
    "chain = prompt_template | model | parser"
   ]
  },
  {
   "cell_type": "code",
   "execution_count": 10,
   "metadata": {},
   "outputs": [],
   "source": [
    "output = chain.invoke({\n",
    "    'resume': resume[0].page_content,\n",
    "    'job_description': job_description\n",
    "})"
   ]
  },
  {
   "cell_type": "code",
   "execution_count": 11,
   "metadata": {},
   "outputs": [
    {
     "data": {
      "text/plain": [
       "'Hemantha Krishna Bharadwaj  \\nhemanthkrishna1298@gmail.com  | LinkedIn  | +1 470 838 8094 | Web site: hemanthkrishna1298.github.io  \\n\\n**Education**  \\n**Georgia Institute of Technology**  \\nAtlanta, GA  \\nMS Electrical and Computer Engineering, DSP - Machine Learning Specialization  \\nAug 2022 – May 2024  \\nTeaching Assistant, OMSCS Machine Learning, GPA: 3.83/4.0  \\n\\n**Birla Institute of Technology and Science [BITS] Pilani**  \\nIndia  \\nB. Eng. Electrical and Electronics, GPA: 9.3/10.0  \\nAug 2018 – May 2022  \\n\\n**Skills**  \\nProgramming Languages: Python, C, C++  \\nWeb Development: React, TypeScript  \\nMachine Learning: PyTorch, TensorFlow, Scikit-learn  \\nRetrieval & Search: Vector Databases, Semantic and Hybrid Search, Embedding Models  \\nNLP & LLMs: OpenAI API, OpenAI Evals, Langchain, Claude API, Azure AI Studio, Hugging Face, DSPy  \\nCloud & Deployment: Azure AI Studio, Git, Docker  \\nDatabases: MongoDB  \\n\\n**Experience**  \\n**Machine Learning Data Scientist**  \\nJun 2024 – Present  \\nRippleWorx  \\n- Developed and deployed large language model (LLM) systems for diverse applications, incorporating plug-and-play LLM subsystems for output generation, evaluation, and iterative prompt optimization  \\n- Engineered hybrid search engines combining semantic and keyword search to enhance functionalities across company software, improving search quality and hit rate by 80%  \\n- Implemented vector databases and optimized retrieval algorithms, resulting in a 50% reduction in response times  \\n- Leveraged Azure AI Studio to deploy scalable, production-ready ML systems for high availability and performance  \\n\\n**Generative AI Technical Lead**  \\nJul 2023 – Jan 2024  \\nAirlinq  \\n- Led a cross-functional team of 15 in developing an AI system allowing personalized conversations between vehicle owners and their cars, deployed in leading Indian automotive OEMs  \\n- Leveraged LLMs in conjunction with retrieval augmented generation and autonomous task generation for creating tailored experiences for car owners, vehicle manufacturers, and service engineers  \\n- Designed and implemented a system comprising vector databases, LLM chains, autonomous agents, and memory  \\n- Utilized various tools and frameworks including Langchain, LLMs (OpenAI, Llama2, Falcon), speech transcription (Whisper AI), HuggingFace embedding models to create a robust and scalable AI solution  \\n\\n**Machine Learning for Speech**  \\nAug 2022 - Dec 2022  \\nGeorgia Tech  \\nProject: Analysis of SSL Models for Speaker Identification  \\n- Improved self-supervised speaker-ID models (Hubert & Wav2Vec2) using an embedding ensemble approach and optimizing audio length, achieving a 97.31% accuracy on the VoxCeleb dataset, outperforming baseline models  \\n- Implemented data processing pipelines to handle large-scale audio datasets, reducing preprocessing time by 35%  \\n\\n**Machine Learning Intern**  \\nFeb 2022 - April 2022  \\nDigital Audio Processing Lab, IIT Bombay  \\nProject: Multi-modal audio-visual Raga and Singer Classification using CNNs  \\n- Developed 3 2D convolutional network architectures for Raga (melodic mode) identification, achieving 92% accuracy on a diverse dataset  \\n- Experimented with 6 spectrogram inputs with 2D CNN for the classification task for multimodal classification  \\n\\n**Machine Learning Thesis, Bill and Melinda Gates Foundation**  \\nAug 2021 – Feb 2022  \\nSPIRE Lab, Indian Institute of Science  \\nProject: Speech Recognition in Agriculture, Finance for the Indian Poor  \\n- Developed a domain-specific web scraping pipeline in Python to create NLP training text corpora in 9 local Indian languages that increased scraping efficiency by 40%  \\n- Analyzed collected text corpora to design and train domain-specific NLP language models for use in speech recognition and speech-to-text systems  \\n- Developed speech recognition models in local Indian languages for use in educationally backward rural areas  \\n\\n**Machine Learning Intern**  \\nMay 2021 – Aug 2021  \\nUniversity of Calgary  \\nProject: Identification and Cancellation of Fauna Noise using AI  \\n- Developed an audio processing model using deep neural networks for identification and cancellation of environmental fauna noise from professional audio recordings  \\n- Preprocessed audio recordings into mel spectrograms for a 4-layer neural network identifying possible noise frequencies for subsequent removal from the original audio signals  \\n\\n**Publications**  \\nH. K. Bharadwaj et al., \"A Review on the Role of Machine Learning in Enabling IoT Based Healthcare Applications,\" in IEEE Access, vol. 9 [Link] [150+ citations]'"
      ]
     },
     "execution_count": 11,
     "metadata": {},
     "output_type": "execute_result"
    }
   ],
   "source": [
    "output"
   ]
  },
  {
   "cell_type": "markdown",
   "metadata": {},
   "source": [
    "## json to html/pdf"
   ]
  },
  {
   "cell_type": "code",
   "execution_count": 2,
   "metadata": {},
   "outputs": [],
   "source": [
    "import json\n",
    "\n",
    "with open('resume_data.json') as f:\n",
    "    data = json.load(f)"
   ]
  },
  {
   "cell_type": "code",
   "execution_count": 7,
   "metadata": {},
   "outputs": [],
   "source": [
    "from jinja2 import Environment, FileSystemLoader\n",
    "\n",
    "# Load the template\n",
    "env = Environment(loader=FileSystemLoader('templates'))\n",
    "# template = env.get_template('html_template.html')\n",
    "template = env.get_template('my_resume_template.html')\n",
    "\n",
    "# Render the template with the JSON data\n",
    "output = template.render(data)"
   ]
  },
  {
   "cell_type": "code",
   "execution_count": 8,
   "metadata": {},
   "outputs": [
    {
     "data": {
      "text/plain": [
       "'<!DOCTYPE html>\\n<html lang=\"en\">\\n<head>\\n    <meta charset=\"UTF-8\">\\n    <meta name=\"viewport\" content=\"width=device-width, initial-scale=1.0\">\\n    <title>Hemantha Krishna Bharadwaj - Resume</title>\\n    <style>\\n        body {\\n            font-family: Arial, sans-serif;\\n            margin: 0;\\n            padding: 0;\\n            line-height: 1.5;\\n        }\\n        .container {\\n            max-width: 800px;\\n            margin: 0 auto;\\n            padding: 20px;\\n        }\\n        h1, h2, h3 {\\n            font-weight: bold;\\n        }\\n        h1 {\\n            font-size: 24px;\\n            margin-bottom: 5px;\\n        }\\n        h2 {\\n            font-size: 18px;\\n            margin-top: 30px;\\n            margin-bottom: 10px;\\n        }\\n        h3 {\\n            font-size: 16px;\\n            margin-bottom: 5px;\\n        }\\n        p {\\n            margin: 5px 0;\\n        }\\n        .contact-info {\\n            font-size: 14px;\\n            margin-bottom: 20px;\\n        }\\n        .contact-info a {\\n            color: black;\\n            text-decoration: none;\\n        }\\n        .section {\\n            margin-bottom: 30px;\\n        }\\n        .item {\\n            margin-bottom: 15px;\\n        }\\n        .item-title {\\n            font-weight: bold;\\n            font-size: 16px;\\n        }\\n        .item-details {\\n            font-size: 14px;\\n            color: gray;\\n        }\\n        ul {\\n            list-style: none;\\n            padding-left: 0;\\n        }\\n        ul li {\\n            margin-bottom: 5px;\\n        }\\n    </style>\\n</head>\\n<body>\\n\\n<div class=\"container\">\\n    <h1>Hemantha Krishna Bharadwaj</h1>\\n    <div class=\"contact-info\">\\n        <p>Email: <a href=\"mailto:hemanthkrishna1298@gmail.com\">hemanthkrishna1298@gmail.com</a> | \\n           <a href=\"https://www.linkedin.com/in/hemantha-krishna-bharadwaj-2504a21ab/\" target=\"_blank\">LinkedIn</a> | \\n           +1 470 838 8094 | \\n           <a href=\"https://hemanthkrishna1298.github.io/\" target=\"_blank\">Website</a>\\n        </p>\\n    </div>\\n\\n    <div class=\"section\">\\n        <h2>Education</h2>\\n        <div class=\"item\">\\n            <div class=\"item-title\">Georgia Institute of Technology, Atlanta, GA</div>\\n            <div class=\"item-details\">MS Electrical and Computer Engineering, DSP-Machine Learning Specialization (Aug 2022 – May 2024)</div>\\n            <ul>\\n                <li>Teaching Assistant, OMSCS Machine Learning</li>\\n                <li>GPA: 3.83/4.0</li>\\n            </ul>\\n        </div>\\n        <div class=\"item\">\\n            <div class=\"item-title\">Birla Institute of Technology and Science [BITS], Pilani, India</div>\\n            <div class=\"item-details\">B. Eng. Electrical and Electronics (Aug 2018 – May 2022)</div>\\n            <ul>\\n                <li>GPA: 9.3/10.0</li>\\n            </ul>\\n        </div>\\n    </div>\\n\\n    <div class=\"section\">\\n        <h2>Skills</h2>\\n        <ul>\\n            <li><strong>Programming Languages:</strong> Python, C, C++</li>\\n            <li><strong>Machine Learning:</strong> PyTorch, TensorFlow, Scikit-learn</li>\\n            <li><strong>Retrieval & Search:</strong> Vector Databases, Semantic and Hybrid Search, Embedding Models</li>\\n            <li><strong>NLP & LLMs:</strong> OpenAI API, OpenAI Evals, Langchain, Claude API, Azure AI Studio, HuggingFace, DSPy</li>\\n            <li><strong>Cloud & Deployment:</strong> Azure AI Studio, Git, Docker</li>\\n        </ul>\\n    </div>\\n\\n    <div class=\"section\">\\n        <h2>Experience</h2>\\n        <div class=\"item\">\\n            <div class=\"item-title\">Machine Learning Data Scientist</div>\\n            <div class=\"item-details\">RippleWorx (Jun 2024 – Present)</div>\\n            <ul>\\n                <li>Developed and deployed LLM systems for diverse applications, incorporating plug-and-play LLM subsystems for output generation and prompt optimization.</li>\\n                <li>Engineered hybrid search engines, improving search quality and hit rate by 80%.</li>\\n                <li>Implemented vector databases and retrieval algorithms, reducing response times by 50%.</li>\\n                <li>Deployed scalable, production-ready ML systems using Azure AI Studio.</li>\\n            </ul>\\n        </div>\\n        <div class=\"item\">\\n            <div class=\"item-title\">Generative AI Technical Lead</div>\\n            <div class=\"item-details\">Airlinq (Jul 2023 – Jan 2024)</div>\\n            <ul>\\n                <li>Led a cross-functional team in developing AI systems enabling personalized conversations for Indian automotive OEMs.</li>\\n                <li>Leveraged LLMs and retrieval augmented generation to create tailored experiences for users and service engineers.</li>\\n            </ul>\\n        </div>\\n        <!-- Additional experience entries can go here in similar format -->\\n    </div>\\n\\n    <div class=\"section\">\\n        <h2>Publications</h2>\\n        <p>H. K. Bharadwaj et al.,\" A Review on the Role of Machine Learning in Enabling IoT Based Healthcare Applications,\" in IEEE Access, vol. 9. <a href=\"https://ieeexplore.ieee.org/abstract/document/9355143\" target=\"_blank\">Link</a> [150+ citations]</p>\\n    </div>\\n</div>\\n\\n</body>\\n</html>'"
      ]
     },
     "execution_count": 8,
     "metadata": {},
     "output_type": "execute_result"
    }
   ],
   "source": [
    "output"
   ]
  },
  {
   "cell_type": "code",
   "execution_count": 9,
   "metadata": {},
   "outputs": [
    {
     "data": {
      "text/plain": [
       "True"
      ]
     },
     "execution_count": 9,
     "metadata": {},
     "output_type": "execute_result"
    }
   ],
   "source": [
    "import pdfkit\n",
    "pdfkit.from_string(output, 'rendered_my_resume.pdf')"
   ]
  },
  {
   "cell_type": "code",
   "execution_count": null,
   "metadata": {},
   "outputs": [],
   "source": []
  }
 ],
 "metadata": {
  "kernelspec": {
   "display_name": ".venv",
   "language": "python",
   "name": "python3"
  },
  "language_info": {
   "codemirror_mode": {
    "name": "ipython",
    "version": 3
   },
   "file_extension": ".py",
   "mimetype": "text/x-python",
   "name": "python",
   "nbconvert_exporter": "python",
   "pygments_lexer": "ipython3",
   "version": "3.9.13"
  }
 },
 "nbformat": 4,
 "nbformat_minor": 2
}
